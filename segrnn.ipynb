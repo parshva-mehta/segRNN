{
 "cells": [
  {
   "cell_type": "code",
   "execution_count": 2,
   "id": "40766484-4206-465d-bd94-aefcfce91049",
   "metadata": {
    "tags": []
   },
   "outputs": [],
   "source": [
    "import torch\n",
    "import torch.nn as nn\n",
    "import pytorch_lightning as pl\n",
    "from pytorch_lightning import Trainer\n",
    "from torch.utils.data import DataLoader, TensorDataset\n",
    "from sklearn.metrics import mean_squared_error"
   ]
  },
  {
   "cell_type": "code",
   "execution_count": 3,
   "id": "af2b9686-470a-467d-b817-21bfce6e3184",
   "metadata": {
    "tags": []
   },
   "outputs": [],
   "source": [
    "class SegRNN(nn.Module):\n",
    "    def __init__(self, input_size, hidden_size, output_size, segment_length):\n",
    "        super(SegRNN, self).__init__()\n",
    "        self.segment_length = segment_length\n",
    "        self.gru_segment = nn.GRU(input_size, hidden_size, batch_first=True)\n",
    "        self.gru_aggregate = nn.GRU(hidden_size, hidden_size, batch_first=True)\n",
    "        self.fc = nn.Linear(hidden_size, output_size)\n",
    "\n",
    "    def forward(self, x):\n",
    "        batch_size, seq_len, _ = x.size()\n",
    "        num_segments = seq_len // self.segment_length\n",
    "        x = x[:, :num_segments * self.segment_length, :]\n",
    "        x = x.view(batch_size * num_segments, self.segment_length, -1)\n",
    "        \n",
    "        # Process each segment independently\n",
    "        _, h_n_segment = self.gru_segment(x)\n",
    "        h_n_segment = h_n_segment.squeeze(0).view(batch_size, num_segments, -1)\n",
    "        \n",
    "        # Aggregate segment embeddings\n",
    "        _, h_n_aggregate = self.gru_aggregate(h_n_segment)\n",
    "        h_n_aggregate = h_n_aggregate.squeeze(0)\n",
    "        \n",
    "        # Final output\n",
    "        out = self.fc(h_n_aggregate)\n",
    "        return out"
   ]
  },
  {
   "cell_type": "code",
   "execution_count": 4,
   "id": "367bc21a-e5d7-4255-8742-e32eb3bdc303",
   "metadata": {
    "tags": []
   },
   "outputs": [],
   "source": [
    "class SegRNNModel(pl.LightningModule):\n",
    "    def __init__(self, input_size, hidden_size, output_size, segment_length, learning_rate=0.001):\n",
    "        super(SegRNNModel, self).__init__()\n",
    "        self.model = SegRNN(input_size, hidden_size, output_size, segment_length)\n",
    "        self.criterion = nn.MSELoss()\n",
    "        self.learning_rate = learning_rate\n",
    "\n",
    "    def forward(self, x):\n",
    "        return self.model(x)\n",
    "\n",
    "    def training_step(self, batch, batch_idx):\n",
    "        inputs, targets = batch\n",
    "        outputs = self(inputs)\n",
    "        loss = self.criterion(outputs, targets)\n",
    "        self.log(\"train_loss\", loss)\n",
    "        return loss\n",
    "\n",
    "    def validation_step(self, batch, batch_idx):\n",
    "        inputs, targets = batch\n",
    "        outputs = self(inputs)\n",
    "        loss = self.criterion(outputs, targets)\n",
    "        self.log(\"val_loss\", loss)\n",
    "        return loss\n",
    "\n",
    "    def test_step(self, batch, batch_idx):\n",
    "        inputs, targets = batch\n",
    "        outputs = self(inputs)\n",
    "        loss = self.criterion(outputs, targets)\n",
    "        self.log(\"test_loss\", loss)\n",
    "        return loss\n",
    "\n",
    "    def configure_optimizers(self):\n",
    "        optimizer = torch.optim.Adam(self.parameters(), lr=self.learning_rate)\n",
    "        return optimizer"
   ]
  },
  {
   "cell_type": "code",
   "execution_count": 5,
   "id": "e4b31883-55da-4eb2-8dec-e61b714a6843",
   "metadata": {
    "tags": []
   },
   "outputs": [
    {
     "name": "stderr",
     "output_type": "stream",
     "text": [
      "GPU available: True (cuda), used: True\n",
      "TPU available: False, using: 0 TPU cores\n",
      "HPU available: False, using: 0 HPUs\n",
      "c:\\Users\\neela\\anaconda3\\envs\\torch_projects\\lib\\site-packages\\pytorch_lightning\\trainer\\configuration_validator.py:70: You defined a `validation_step` but have no `val_dataloader`. Skipping val loop.\n",
      "You are using a CUDA device ('NVIDIA GeForce RTX 3060 Laptop GPU') that has Tensor Cores. To properly utilize them, you should set `torch.set_float32_matmul_precision('medium' | 'high')` which will trade-off precision for performance. For more details, read https://pytorch.org/docs/stable/generated/torch.set_float32_matmul_precision.html#torch.set_float32_matmul_precision\n",
      "LOCAL_RANK: 0 - CUDA_VISIBLE_DEVICES: [0]\n",
      "\n",
      "  | Name      | Type    | Params | Mode \n",
      "----------------------------------------------\n",
      "0 | model     | SegRNN  | 1.2 K  | train\n",
      "1 | criterion | MSELoss | 0      | train\n",
      "----------------------------------------------\n",
      "1.2 K     Trainable params\n",
      "0         Non-trainable params\n",
      "1.2 K     Total params\n",
      "0.005     Total estimated model params size (MB)\n",
      "5         Modules in train mode\n",
      "0         Modules in eval mode\n",
      "c:\\Users\\neela\\anaconda3\\envs\\torch_projects\\lib\\site-packages\\pytorch_lightning\\trainer\\connectors\\data_connector.py:424: The 'train_dataloader' does not have many workers which may be a bottleneck. Consider increasing the value of the `num_workers` argument` to `num_workers=15` in the `DataLoader` to improve performance.\n"
     ]
    },
    {
     "data": {
      "application/vnd.jupyter.widget-view+json": {
       "model_id": "cecccade2dad4e0a985d8cc450dd0b41",
       "version_major": 2,
       "version_minor": 0
      },
      "text/plain": [
       "Training: |          | 0/? [00:00<?, ?it/s]"
      ]
     },
     "metadata": {},
     "output_type": "display_data"
    },
    {
     "name": "stderr",
     "output_type": "stream",
     "text": [
      "`Trainer.fit` stopped: `max_epochs=5` reached.\n"
     ]
    }
   ],
   "source": [
    "import torch\n",
    "from torch.utils.data import DataLoader, TensorDataset\n",
    "import pytorch_lightning as pl\n",
    "\n",
    "# Parameters for sanity check\n",
    "input_size = 5      # Number of input features\n",
    "hidden_size = 10    # Hidden size of the GRU\n",
    "output_size = 3     # Number of output features\n",
    "segment_length = 4  # Segment length for the SegRNN\n",
    "sequence_length = 16  # Total sequence length (must be divisible by segment_length)\n",
    "batch_size = 2      # Batch size\n",
    "num_samples = 20    # Total samples in synthetic dataset\n",
    "\n",
    "# Generate synthetic data\n",
    "torch.manual_seed(42)\n",
    "X = torch.randn(num_samples, sequence_length, input_size)  # Input: [num_samples, seq_length, input_size]\n",
    "y = torch.randn(num_samples, output_size)                 # Target: [num_samples, output_size]\n",
    "\n",
    "# Create DataLoader\n",
    "dataset = TensorDataset(X, y)\n",
    "dataloader = DataLoader(dataset, batch_size=batch_size)\n",
    "\n",
    "# Initialize model\n",
    "model = SegRNNModel(input_size=input_size, hidden_size=hidden_size, output_size=output_size, segment_length=segment_length)\n",
    "\n",
    "# Lightning Trainer for quick sanity check\n",
    "trainer = pl.Trainer(max_epochs=5, logger=False, enable_checkpointing=False)\n",
    "\n",
    "# Run training\n",
    "trainer.fit(model, dataloader)\n"
   ]
  }
 ],
 "metadata": {
  "kernelspec": {
   "display_name": "pytorch-2.3.1",
   "language": "python",
   "name": "pytorch-2.3.1"
  },
  "language_info": {
   "codemirror_mode": {
    "name": "ipython",
    "version": 3
   },
   "file_extension": ".py",
   "mimetype": "text/x-python",
   "name": "python",
   "nbconvert_exporter": "python",
   "pygments_lexer": "ipython3",
   "version": "3.11.9"
  }
 },
 "nbformat": 4,
 "nbformat_minor": 5
}
