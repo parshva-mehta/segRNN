{
 "cells": [
  {
   "cell_type": "code",
   "execution_count": 4,
   "id": "40766484-4206-465d-bd94-aefcfce91049",
   "metadata": {
    "tags": []
   },
   "outputs": [],
   "source": [
    "import torch\n",
    "import torch.nn as nn\n",
    "import pytorch_lightning as pl\n",
    "from pytorch_lightning import Trainer\n",
    "from torch.utils.data import DataLoader, TensorDataset\n",
    "from sklearn.metrics import mean_squared_error"
   ]
  },
  {
   "cell_type": "code",
   "execution_count": 2,
   "id": "af2b9686-470a-467d-b817-21bfce6e3184",
   "metadata": {
    "tags": []
   },
   "outputs": [],
   "source": [
    "class SegRNN(nn.Module):\n",
    "    def __init__(self, input_size, hidden_size, output_size, segment_length):\n",
    "        super(SegRNN, self).__init__()\n",
    "        self.segment_length = segment_length\n",
    "        self.gru = nn.GRU(input_size, hidden_size, batch_first=True)\n",
    "        self.fc = nn.Linear(hidden_size, output_size)\n",
    "\n",
    "    def forward(self, x):\n",
    "        batch_size, seq_len, _ = x.size()\n",
    "        num_segments = seq_len // self.segment_length\n",
    "        x = x[:, :num_segments * self.segment_length, :]\n",
    "        x = x.view(batch_size * num_segments, self.segment_length, -1)\n",
    "        _, h_n = self.gru(x)\n",
    "        h_n = h_n.view(batch_size, num_segments, -1)\n",
    "        out = self.fc(h_n)\n",
    "        return out"
   ]
  },
  {
   "cell_type": "code",
   "execution_count": 3,
   "id": "367bc21a-e5d7-4255-8742-e32eb3bdc303",
   "metadata": {
    "tags": []
   },
   "outputs": [],
   "source": [
    "class SegRNNModel(pl.LightningModule):\n",
    "    def __init__(self, input_size, hidden_size, output_size, segment_length, learning_rate=0.001):\n",
    "        super(SegRNNModel, self).__init__()\n",
    "        self.model = SegRNN(input_size, hidden_size, output_size, segment_length)\n",
    "        self.criterion = nn.MSELoss()\n",
    "        self.learning_rate = learning_rate\n",
    "\n",
    "    def forward(self, x):\n",
    "        return self.model(x)\n",
    "\n",
    "    def training_step(self, batch, batch_idx):\n",
    "        inputs, targets = batch\n",
    "        outputs = self(inputs)\n",
    "        loss = self.criterion(outputs, targets)\n",
    "        self.log(\"train_loss\", loss)\n",
    "        return loss\n",
    "\n",
    "    def validation_step(self, batch, batch_idx):\n",
    "        inputs, targets = batch\n",
    "        outputs = self(inputs)\n",
    "        loss = self.criterion(outputs, targets)\n",
    "        self.log(\"val_loss\", loss)\n",
    "        return loss\n",
    "\n",
    "    def test_step(self, batch, batch_idx):\n",
    "        inputs, targets = batch\n",
    "        outputs = self(inputs)\n",
    "        loss = self.criterion(outputs, targets)\n",
    "        self.log(\"test_loss\", loss)\n",
    "        return loss\n",
    "\n",
    "    def configure_optimizers(self):\n",
    "        optimizer = torch.optim.Adam(self.parameters(), lr=self.learning_rate)\n",
    "        return optimizer"
   ]
  },
  {
   "cell_type": "code",
   "execution_count": 5,
   "id": "e4b31883-55da-4eb2-8dec-e61b714a6843",
   "metadata": {
    "tags": []
   },
   "outputs": [
    {
     "ename": "NameError",
     "evalue": "name 'input_size' is not defined",
     "output_type": "error",
     "traceback": [
      "\u001b[0;31m---------------------------------------------------------------------------\u001b[0m",
      "\u001b[0;31mNameError\u001b[0m                                 Traceback (most recent call last)",
      "Cell \u001b[0;32mIn[5], line 1\u001b[0m\n\u001b[0;32m----> 1\u001b[0m model \u001b[38;5;241m=\u001b[39m SegRNNModel(\u001b[43minput_size\u001b[49m, hidden_size, output_size, segment_length)\n",
      "\u001b[0;31mNameError\u001b[0m: name 'input_size' is not defined"
     ]
    }
   ],
   "source": [
    "model = SegRNNModel(input_size, hidden_size, output_size, segment_length)"
   ]
  }
 ],
 "metadata": {
  "kernelspec": {
   "display_name": "NERSC Python",
   "language": "python",
   "name": "python3"
  },
  "language_info": {
   "codemirror_mode": {
    "name": "ipython",
    "version": 3
   },
   "file_extension": ".py",
   "mimetype": "text/x-python",
   "name": "python",
   "nbconvert_exporter": "python",
   "pygments_lexer": "ipython3",
   "version": "3.11.7"
  }
 },
 "nbformat": 4,
 "nbformat_minor": 5
}
